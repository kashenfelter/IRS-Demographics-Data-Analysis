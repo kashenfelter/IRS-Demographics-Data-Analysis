{
 "cells": [
  {
   "cell_type": "code",
   "execution_count": 4,
   "metadata": {},
   "outputs": [
    {
     "name": "stdout",
     "output_type": "stream",
     "text": [
      "['STATE', 'zipcode', 'agi_stub', 'num_returns', 'num_single_returns', 'num_joint_returns', 'num_head_of_household_returns', 'num_paid_preparer_returns', 'num_exemptions', 'num_dependents', 'amount_agi', 'num_returns_with_refunds', 'amount_refund']\n"
     ]
    },
    {
     "data": {
      "image/png": "[encoded data removed]",
      "text/plain": [
       "<matplotlib.figure.Figure at 0x10662c978>"
      ]
     },
     "metadata": {},
     "output_type": "display_data"
    }
   ],
   "source": [
    "%matplotlib inline\n",
    "import numpy as np\n",
    "import matplotlib.pyplot as plt\n",
    "\n",
    "irs_public = 'irs_public_data.csv'\n",
    "acs_population = 'acs_population_demographics.csv'\n",
    "\n",
    "def read_file(file):\n",
    "    str_list = []\n",
    "    f = open(file, 'r')\n",
    "    title = f.readline()[:-2].split(',')\n",
    "    print(title)\n",
    "    next(f)\n",
    "    for l in f.readlines():\n",
    "        l=l[:-2]\n",
    "        str_list.append(l.split(\",\"))\n",
    "\n",
    "    f.close()\n",
    "    return title,str_list\n",
    "\n",
    "# turn irs data into python object\n",
    "pub_title , pub_list_data= read_file(irs_public)\n",
    "pub_data = np.asarray(pub_list_data)\n",
    "sub_data = pub_data[:,0]\n",
    "\n",
    "\n",
    "def plot_statistics(key, index,all_stats):\n",
    "    color = ['red','blue','green','black','brown']\n",
    "    f, ax = plt.subplots()\n",
    "    ax.set_title(key)\n",
    "    for i in range(len(index)):\n",
    "        ax.plot(all_stats[:,index[i]], color=color[i])\n",
    "\n",
    "    f.savefig(key+'.png')\n",
    "\n",
    "# try plot the raw data of irs data\n",
    "\n",
    "# conf1, conf2 = conference_keys\n",
    "index = [3]\n",
    "plot_statistics('num of returns',index,pub_data)"
   ]
  },
  {
   "cell_type": "code",
   "execution_count": null,
   "metadata": {
    "collapsed": true
   },
   "outputs": [],
   "source": [
    "test= {'time': {'1': 1, '2': 2, '3': 3, '4': 3}, 'count': {'1': 26, '2': 39, '3': 34, '4': 67}}\n",
    "tt = pd.DataFrame(data=test)\n",
    "print(tt)\n",
    "tt2=tt.groupby('time')['time','count']#.agg({'time':'sum'})\n",
    "print(tt2.head())"
   ]
  },
  {
   "cell_type": "markdown",
   "metadata": {},
   "source": []
  },
  {
   "cell_type": "code",
   "execution_count": null,
   "metadata": {
    "collapsed": true
   },
   "outputs": [],
   "source": [
    "state_acs=clean_acs.groupby('State Number').agg({\n",
    "                                        \n",
    "                                          'ZIP':'mean',\n",
    "                                          'Total; Estimate; Total population':'sum' ,\n",
    "                                          'Male; Estimate; Total population':'sum' ,\n",
    "                                          'Female; Estimate; Total population':'sum' ,\n",
    "                                          'Total; Estimate; AGE - Under 5 years':'mean',\n",
    " 'Male; Estimate; AGE - Under 5 years':'mean',\n",
    " 'Female; Estimate; AGE - Under 5 years':'mean',\n",
    " 'Total; Estimate; AGE - 5 to 9 years':'mean', 'Male; Estimate; AGE - 5 to 9 years':'mean',\n",
    " 'Female; Estimate; AGE - 5 to 9 years':'mean',\n",
    " 'Total; Estimate; AGE - 10 to 14 years':'mean',\n",
    " 'Male; Estimate; AGE - 10 to 14 years':'mean',\n",
    " 'Female; Estimate; AGE - 10 to 14 years':'mean',\n",
    " 'Total; Estimate; AGE - 15 to 19 years':'mean',\n",
    " 'Male; Estimate; AGE - 15 to 19 years':'mean',\n",
    " 'Female; Estimate; AGE - 15 to 19 years':'mean',\n",
    " 'Total; Estimate; AGE - 20 to 24 years':'mean',\n",
    " 'Male; Estimate; AGE - 20 to 24 years':'mean',\n",
    " 'Female; Estimate; AGE - 20 to 24 years':'mean',\n",
    " 'Total; Estimate; AGE - 25 to 29 years':'mean',\n",
    " 'Male; Estimate; AGE - 25 to 29 years':'mean',\n",
    " 'Female; Estimate; AGE - 25 to 29 years':'mean',\n",
    " 'Total; Estimate; AGE - 30 to 34 years':'mean',\n",
    " 'Male; Estimate; AGE - 30 to 34 years':'mean',\n",
    " 'Female; Estimate; AGE - 30 to 34 years':'mean',\n",
    " 'Total; Estimate; AGE - 35 to 39 years':'mean',\n",
    " 'Male; Estimate; AGE - 35 to 39 years':'mean',\n",
    " 'Female; Estimate; AGE - 35 to 39 years':'mean',\n",
    " 'Total; Estimate; AGE - 40 to 44 years':'mean',\n",
    " 'Male; Estimate; AGE - 40 to 44 years':'mean',\n",
    " 'Female; Estimate; AGE - 40 to 44 years':'mean',\n",
    " 'Total; Estimate; AGE - 45 to 49 years':'mean',\n",
    " 'Male; Estimate; AGE - 45 to 49 years':'mean',\n",
    " 'Female; Estimate; AGE - 45 to 49 years':'mean',\n",
    " 'Total; Estimate; AGE - 50 to 54 years':'mean',\n",
    " 'Male; Estimate; AGE - 50 to 54 years':'mean',\n",
    " 'Female; Estimate; AGE - 50 to 54 years':'mean',\n",
    " 'Total; Estimate; AGE - 55 to 59 years':'mean',\n",
    " 'Male; Estimate; AGE - 55 to 59 years':'mean',\n",
    " 'Female; Estimate; AGE - 55 to 59 years':'mean',\n",
    " 'Total; Estimate; AGE - 60 to 64 years':'mean',\n",
    " 'Male; Estimate; AGE - 60 to 64 years':'mean',\n",
    " 'Female; Estimate; AGE - 60 to 64 years':'mean',\n",
    " 'Total; Estimate; AGE - 65 to 69 years':'mean',\n",
    " 'Male; Estimate; AGE - 65 to 69 years':'mean',\n",
    " 'Female; Estimate; AGE - 65 to 69 years':'mean',\n",
    " 'Total; Estimate; AGE - 70 to 74 years':'mean',\n",
    " 'Male; Estimate; AGE - 70 to 74 years':'mean',\n",
    " 'Female; Estimate; AGE - 70 to 74 years':'mean',\n",
    " 'Total; Estimate; AGE - 75 to 79 years':'mean',\n",
    " 'Male; Estimate; AGE - 75 to 79 years':'mean',\n",
    " 'Female; Estimate; AGE - 75 to 79 years':'mean',\n",
    " 'Total; Estimate; AGE - 80 to 84 years':'mean',\n",
    " 'Male; Estimate; AGE - 80 to 84 years':'mean',\n",
    " 'Female; Estimate; AGE - 80 to 84 years':'mean',\n",
    " 'Total; Estimate; AGE - 85 years and over':'mean',\n",
    " 'Male; Estimate; AGE - 85 years and over':'mean',\n",
    " 'Female; Estimate; AGE - 85 years and over':'mean',\n",
    " 'Total; Estimate; SUMMARY INDICATORS - Median age (years)':'mean',\n",
    " 'Male; Estimate; SUMMARY INDICATORS - Median age (years)':'mean',\n",
    " 'Female; Estimate; SUMMARY INDICATORS - Median age (years)':'mean',\n",
    " 'Total; Estimate; SUMMARY INDICATORS - Sex ratio (males per 100 females)':'mean',\n",
    " 'Total; Estimate; SUMMARY INDICATORS - Age dependency ratio':'mean',\n",
    " 'Total; Estimate; SUMMARY INDICATORS - Old-age dependency ratio':'mean',\n",
    " 'Total; Estimate; SUMMARY INDICATORS - Child dependency ratio':'mean'\n",
    "                                          })\n",
    "print(len(state_acs))"
   ]
  }
 ],
 "metadata": {
  "kernelspec": {
   "display_name": "Python 3",
   "language": "python",
   "name": "python3"
  },
  "language_info": {
   "codemirror_mode": {
    "name": "ipython",
    "version": 3
   },
   "file_extension": ".py",
   "mimetype": "text/x-python",
   "name": "python",
   "nbconvert_exporter": "python",
   "pygments_lexer": "ipython3",
   "version": "3.6.3"
  }
 },
 "nbformat": 4,
 "nbformat_minor": 2
}
